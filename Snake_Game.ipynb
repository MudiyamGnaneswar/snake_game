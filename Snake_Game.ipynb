{
 "cells": [
  {
   "cell_type": "markdown",
   "metadata": {
    "id": "RoNBcZFcYy9_"
   },
   "source": [
    "**Constants and Imports**"
   ]
  },
  {
   "cell_type": "code",
   "execution_count": 1,
   "metadata": {
    "id": "L5d1nIe0Y1cH"
   },
   "outputs": [],
   "source": [
    "from tkinter import *\n",
    "import random\n",
    "\n",
    "GAME_WIDTH = 700\n",
    "GAME_HEIGHT = 700\n",
    "SPEED = 50\n",
    "SPACE_SIZE = 50\n",
    "BODY_PARTS = 3\n",
    "SNAKE_COLOR = \"#00FF00\"\n",
    "FOOD_COLOR = \"#FF0000\"\n",
    "BACKGROUND_COLOR = \"#000000\""
   ]
  },
  {
   "cell_type": "markdown",
   "metadata": {
    "id": "gJpNgtbgZBrn"
   },
   "source": [
    "**Snake Class**"
   ]
  },
  {
   "cell_type": "code",
   "execution_count": 2,
   "metadata": {
    "id": "WWyyl3YoZBTL"
   },
   "outputs": [],
   "source": [
    "class Snake:\n",
    "    def __init__(self):\n",
    "        self.body_size = BODY_PARTS\n",
    "        self.coordinates = []\n",
    "        self.squares = []\n",
    "\n",
    "        for i in range(0, BODY_PARTS):\n",
    "            self.coordinates.append([0, 0])\n",
    "\n",
    "        for x, y in self.coordinates:\n",
    "            square = canvas.create_rectangle(x, y, x + SPACE_SIZE, y + SPACE_SIZE, fill=SNAKE_COLOR, tag=\"snake\")\n",
    "            self.squares.append(square)"
   ]
  },
  {
   "cell_type": "markdown",
   "metadata": {
    "id": "_YMmJPnCZIfd"
   },
   "source": [
    "**Food Class**"
   ]
  },
  {
   "cell_type": "code",
   "execution_count": 3,
   "metadata": {
    "id": "CYa7o357ZIOT"
   },
   "outputs": [],
   "source": [
    "class Food:\n",
    "    def __init__(self):\n",
    "        x = random.randint(0, (GAME_WIDTH // SPACE_SIZE) - 1) * SPACE_SIZE\n",
    "        y = random.randint(0, (GAME_HEIGHT // SPACE_SIZE) - 1) * SPACE_SIZE\n",
    "\n",
    "        self.coordinates = [x, y]\n",
    "        canvas.create_oval(x, y, x + SPACE_SIZE, y + SPACE_SIZE, fill=FOOD_COLOR, tag=\"food\")\n"
   ]
  },
  {
   "cell_type": "markdown",
   "metadata": {
    "id": "oeBAsUPaZO4G"
   },
   "source": [
    "**Game Logic Functions**"
   ]
  },
  {
   "cell_type": "code",
   "execution_count": 4,
   "metadata": {
    "id": "ZK16WMr5ZORf"
   },
   "outputs": [],
   "source": [
    "def next_turn(snake, food):\n",
    "    global score\n",
    "\n",
    "    x, y = snake.coordinates[0]\n",
    "\n",
    "    if direction == \"up\":\n",
    "        y -= SPACE_SIZE\n",
    "    elif direction == \"down\":\n",
    "        y += SPACE_SIZE\n",
    "    elif direction == \"left\":\n",
    "        x -= SPACE_SIZE\n",
    "    elif direction == \"right\":\n",
    "        x += SPACE_SIZE\n",
    "\n",
    "    snake.coordinates.insert(0, (x, y))\n",
    "    square = canvas.create_rectangle(x, y, x + SPACE_SIZE, y + SPACE_SIZE, fill=SNAKE_COLOR)\n",
    "    snake.squares.insert(0, square)\n",
    "\n",
    "    if x == food.coordinates[0] and y == food.coordinates[1]:\n",
    "        score += 1\n",
    "        label.config(text=\"Score:{}\".format(score))\n",
    "        canvas.delete(\"food\")\n",
    "        food.__init__()\n",
    "    else:\n",
    "        del snake.coordinates[-1]\n",
    "        canvas.delete(snake.squares[-1])\n",
    "        del snake.squares[-1]\n",
    "\n",
    "    if check_collisions(snake):\n",
    "        game_over()\n",
    "    else:\n",
    "        window.after(SPEED, next_turn, snake, food)\n"
   ]
  },
  {
   "cell_type": "markdown",
   "metadata": {
    "id": "ms7fpJFcZYmB"
   },
   "source": [
    "change_direction **Function**"
   ]
  },
  {
   "cell_type": "code",
   "execution_count": 5,
   "metadata": {
    "id": "TYESWYD6ZgHW"
   },
   "outputs": [],
   "source": [
    "def change_direction(new_direction):\n",
    "    global direction\n",
    "\n",
    "    if new_direction == 'left' and direction != 'right':\n",
    "        direction = new_direction\n",
    "    elif new_direction == 'right' and direction != 'left':\n",
    "        direction = new_direction\n",
    "    elif new_direction == 'up' and direction != 'down':\n",
    "        direction = new_direction\n",
    "    elif new_direction == 'down' and direction != 'up':\n",
    "        direction = new_direction"
   ]
  },
  {
   "cell_type": "markdown",
   "metadata": {
    "id": "ixm4MvvDZjD3"
   },
   "source": [
    "check_collisions **Function**"
   ]
  },
  {
   "cell_type": "code",
   "execution_count": 6,
   "metadata": {
    "id": "r2jl197GZkzR"
   },
   "outputs": [],
   "source": [
    "def check_collisions(snake):\n",
    "    x, y = snake.coordinates[0]\n",
    "\n",
    "    if x < 0 or x >= GAME_WIDTH or y < 0 or y >= GAME_HEIGHT:\n",
    "        return True\n",
    "\n",
    "    for body_part in snake.coordinates[1:]:\n",
    "        if x == body_part[0] and y == body_part[1]:\n",
    "            return True\n",
    "\n",
    "    return False\n"
   ]
  },
  {
   "cell_type": "markdown",
   "metadata": {
    "id": "GoX43--HZnNm"
   },
   "source": [
    "game_over **Function**"
   ]
  },
  {
   "cell_type": "code",
   "execution_count": 7,
   "metadata": {
    "id": "4gtXFCgrZokX"
   },
   "outputs": [],
   "source": [
    "def game_over():\n",
    "    canvas.delete(ALL)\n",
    "    canvas.create_text(canvas.winfo_width() / 2, canvas.winfo_height() / 2,\n",
    "                       font=('consolas', 70), text=\"GAME OVER\", fill=\"red\", tag=\"gameover\")\n"
   ]
  },
  {
   "cell_type": "markdown",
   "metadata": {
    "id": "5qAMGlwaZs3l"
   },
   "source": [
    "**Setup and Initialization**"
   ]
  },
  {
   "cell_type": "code",
   "execution_count": 8,
   "metadata": {
    "colab": {
     "base_uri": "https://localhost:8080/",
     "height": 367
    },
    "id": "WoHaWNgGZuVJ",
    "outputId": "02cfba1c-ab9b-4c5b-befd-cb8c156b052a"
   },
   "outputs": [
    {
     "data": {
      "text/plain": [
       "''"
      ]
     },
     "execution_count": 8,
     "metadata": {},
     "output_type": "execute_result"
    }
   ],
   "source": [
    "window = Tk()\n",
    "window.title(\"Snake game\")\n",
    "window.resizable(False, False)\n",
    "\n",
    "score = 0\n",
    "direction = 'down'\n",
    "\n",
    "label = Label(window, text=\"Score:{}\".format(score), font=('consolas', 40))\n",
    "label.pack()\n",
    "\n",
    "canvas = Canvas(window, bg=BACKGROUND_COLOR, height=GAME_HEIGHT, width=GAME_WIDTH)\n",
    "canvas.pack()\n",
    "\n",
    "window.update()\n",
    "\n",
    "window_width = window.winfo_width()\n",
    "window_height = window.winfo_height()\n",
    "screen_width = window.winfo_screenwidth()\n",
    "screen_height = window.winfo_screenheight()\n",
    "\n",
    "x = int((screen_width / 2) - (window_width / 2))\n",
    "y = int((screen_height / 2) - (window_height / 2))\n",
    "\n",
    "window.geometry(f\"{window_width}x{window_height}+{x}+{y}\")\n"
   ]
  },
  {
   "cell_type": "markdown",
   "metadata": {
    "id": "zOasP34zZ116"
   },
   "source": [
    "**Event Bindings**"
   ]
  },
  {
   "cell_type": "code",
   "execution_count": 9,
   "metadata": {
    "colab": {
     "base_uri": "https://localhost:8080/",
     "height": 193
    },
    "id": "FcB4X-eIZ2-y",
    "outputId": "83456598-925c-41a2-b21d-64b6222cefb6"
   },
   "outputs": [
    {
     "data": {
      "text/plain": [
       "'1697632991424<lambda>'"
      ]
     },
     "execution_count": 9,
     "metadata": {},
     "output_type": "execute_result"
    }
   ],
   "source": [
    "window.bind('<Left>', lambda event: change_direction('left'))\n",
    "window.bind('<Right>', lambda event: change_direction('right'))\n",
    "window.bind('<Up>', lambda event: change_direction('up'))\n",
    "window.bind('<Down>', lambda event: change_direction('down'))\n"
   ]
  },
  {
   "cell_type": "markdown",
   "metadata": {
    "id": "exmV6FbEZ6Ew"
   },
   "source": [
    "**Main Execution**"
   ]
  },
  {
   "cell_type": "code",
   "execution_count": 10,
   "metadata": {
    "colab": {
     "base_uri": "https://localhost:8080/",
     "height": 332
    },
    "id": "8KwBcjZOZ7UU",
    "outputId": "59e4f0d9-fa6f-4ff7-9f7c-3c30553685bf"
   },
   "outputs": [],
   "source": [
    "snake = Snake()\n",
    "food = Food()\n",
    "\n",
    "next_turn(snake, food)\n",
    "\n",
    "window.mainloop()\n"
   ]
  },
  {
   "cell_type": "code",
   "execution_count": null,
   "metadata": {},
   "outputs": [],
   "source": []
  },
  {
   "cell_type": "code",
   "execution_count": null,
   "metadata": {},
   "outputs": [],
   "source": []
  }
 ],
 "metadata": {
  "colab": {
   "provenance": []
  },
  "kernelspec": {
   "display_name": "Python 3 (ipykernel)",
   "language": "python",
   "name": "python3"
  },
  "language_info": {
   "codemirror_mode": {
    "name": "ipython",
    "version": 3
   },
   "file_extension": ".py",
   "mimetype": "text/x-python",
   "name": "python",
   "nbconvert_exporter": "python",
   "pygments_lexer": "ipython3",
   "version": "3.12.3"
  }
 },
 "nbformat": 4,
 "nbformat_minor": 4
}
